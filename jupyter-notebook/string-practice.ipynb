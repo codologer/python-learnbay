{
 "cells": [
  {
   "cell_type": "markdown",
   "id": "583d3c4c",
   "metadata": {},
   "source": [
    "<h1><center>String Assignment</center></h1>"
   ]
  },
  {
   "cell_type": "code",
   "execution_count": 2,
   "id": "e6d3a710",
   "metadata": {},
   "outputs": [
    {
     "name": "stdout",
     "output_type": "stream",
     "text": [
      "<class 'str'> 2668513413104\n"
     ]
    }
   ],
   "source": [
    "#Declare a string and store it in a variable. \n",
    "\n",
    "a='Shreyansh'\n",
    "print(type(a), id(a))\n",
    "\n",
    "#Check the type and print the id of the same.\n"
   ]
  },
  {
   "cell_type": "code",
   "execution_count": null,
   "id": "190a801a",
   "metadata": {},
   "outputs": [],
   "source": [
    "#Which are valid/invalid strings\n",
    "1. 'This is Python class'\n",
    "valid\n",
    "\n",
    "2. \"This is Python class\"\n",
    "valid\n",
    "\n",
    "3. '''This is Python class'''\n",
    "valid\n",
    "\n",
    "4. \"\"\"This is Python class\"\"\"\n",
    "valid\n",
    "\n",
    "5. 'This is Python's class'\n",
    "invalid\n",
    "\n",
    "6. \"Learnbay provides \"Java\", \"Python\" classes\"\n",
    "invalid\n",
    "\n",
    "7. \"Learnbay provides 'Java', 'Python' classes\"\n",
    "valid\n",
    "\n",
    "8. \"This is Python's class\"\n",
    "valid\n",
    "\n",
    "9. \"\"\"Learnbay provides \"Java\", \"Python\" classes\"\"\"\n",
    "valid\n",
    "\n",
    "10. '''Learnbay provides \"Java\", \"Python\" classes'''\n",
    "valid\n",
    "\n",
    "11. '''Learnbay provides\n",
    "\"Java\", \"Python\" \n",
    "classes'''\n",
    "invalid\n",
    "\n",
    "12. 'This is\n",
    "Python \n",
    "class'\n",
    "invalid"
   ]
  },
  {
   "cell_type": "code",
   "execution_count": 4,
   "id": "e9bd37e5",
   "metadata": {},
   "outputs": [
    {
     "name": "stdout",
     "output_type": "stream",
     "text": [
      "66\n",
      "2668513371568 2668513370672\n",
      "<class 'str'>\n"
     ]
    }
   ],
   "source": [
    "#Write the code to get the output mentioned below print statement\n",
    "my_str = \"Although that way may not be obvious at first unless you're Dutch.\"\n",
    "my_str1 = \"Although that way may not be obvious at first unless you're Dutch.\"\n",
    "\n",
    "print(len(my_str))\n",
    "#output:- The length of my_str is 66\n",
    "\n",
    "print(id(my_str),id(my_str1))\n",
    "#output:- id of my_str and my_str1 is same? - True\n",
    "\n",
    "print(type(my_str))\n",
    "#output:- Type of my_str is: str"
   ]
  },
  {
   "cell_type": "code",
   "execution_count": 7,
   "id": "da3f25f1",
   "metadata": {},
   "outputs": [
    {
     "name": "stdout",
     "output_type": "stream",
     "text": [
      "A\n",
      "A\n",
      " \n",
      "h\n",
      "h\n",
      "8\n"
     ]
    }
   ],
   "source": [
    "#Indexing\n",
    "my_str = \"Although 8 that way may not be obvious at first unless you're Dutch\"\n",
    "#Write the code to get the output,instructions are mentioned below print statement. use indexing\n",
    "\n",
    "print(my_str[0])\n",
    "#output:- The first character in my_str is: A\n",
    "#Note:- Use positive indexing\n",
    "\n",
    "print(my_str[-len(my_str)])\n",
    "#output:- The first character in my_str is: h\n",
    "#Note:- Use len() function.\n",
    "\n",
    "print(my_str[10])\n",
    "#output:- The character at index 10 in my_str is: c\n",
    "#Note:- Use positive indexing\n",
    "\n",
    "print(my_str[-1])\n",
    "#output:- The last character in my_str is: h\n",
    "#Note:- Use negative indexing.\n",
    "\n",
    "print(my_str[len(my_str)-1])\n",
    "#output:- The last character in my_str is: h\n",
    "#Note:- Use len() function.\n",
    "\n",
    "print(my_str[9])\n",
    "#output:- The character in my_str is: 8\n",
    "#Note:- Use positive index"
   ]
  },
  {
   "cell_type": "code",
   "execution_count": 48,
   "id": "ae789987",
   "metadata": {},
   "outputs": [
    {
     "name": "stdout",
     "output_type": "stream",
     "text": [
      "Although that way may not be obvious at first unless you're Dutch.\n",
      "Although that way may not be obvious at first unless you're Dutch.\n",
      "Although that way may not be obvious at first unless you're Dutch.\n",
      "Although that way may not be obvious at first unless you're Dutch\n",
      "\n",
      "Atog htwymyntb biu tfrtuls o'eDth\n",
      "Ahgttam tebo  r lsorDc\n",
      ".hctuD er'uoy sselnu tsrif ta suoivbo eb ton yam yaw taht hguohtlA\n",
      ".hctuD er'uoy sselnu tsrif ta suoivbo eb ton yam yaw taht hguohtlA\n",
      ".cu ruysen si asovoe o a a athuhl\n",
      ".cu ruysen si asovoe o a a athuhl\n",
      "\n",
      "yaw ta\n",
      "ess you\n"
     ]
    }
   ],
   "source": [
    "#Slicing\n",
    "my_str = \"Although that way may not be obvious at first unless you're Dutch.\"\n",
    "#Write the code to get the output,instructions are mentioned below print statement. use slicing\n",
    "print(my_str[:])\n",
    "#output:- You have sliced: Although that way may not be obvious at first unless you're Dutch.Without begin, end and step\n",
    "\n",
    "print(my_str[0:len(my_str)])\n",
    "#output:- You have sliced: Although that way may not be obvious at first unless you're Dutch.with begin as 0 end using len and without step\n",
    "\n",
    "\n",
    "print(my_str[: :1])\n",
    "#output:- You have sliced: Although that way may not be obvious at first unless you're Dutch.without begin and end but using step\n",
    "\n",
    "\n",
    "print(my_str[0:-1:1])\n",
    "#output:- You have sliced: Although that way may not be obvious at first unless you're Dutch.With begin, end and step\n",
    "\n",
    "\n",
    "print(my_str[0:1:-1])\n",
    "#output:- You have sliced:   .with using begin and end using postive values and step as negative values.\n",
    "#Slicing command should print empty string.\n",
    "\n",
    "\n",
    "print(my_str[0:-1:2])\n",
    "#output:- You have sliced: Atog htwymyntb biu tfrtuls o'eDth\n",
    "\n",
    "\n",
    "print(my_str[0:-1:3])\n",
    "#output:- You have sliced: Ahgttam tebo  r lsorDc\n",
    "\n",
    "\n",
    "print(my_str[::-1])\n",
    "#output:- You have sliced: .hctuD er'uoy sselnu tsrif ta suoivbo eb ton yam yaw taht hguohtlA. Use only step\n",
    "\n",
    "\n",
    "print(my_str[-1:-len(my_str)-1:-1])\n",
    "#output:- You have sliced: .hctuD er'uoy sselnu tsrif ta suoivbo eb ton yam yaw taht hguohtlA. Use begin end and step.\n",
    "\n",
    "\n",
    "print(my_str[::-2])\n",
    "#output:- You have sliced: .cu ruysen si asovoe o a a athuhl. use only step\n",
    "\n",
    "\n",
    "print(my_str[-1:-len(my_str)-1:-2])\n",
    "#output:- You have sliced: .cu ruysen si asovoe o a a athuhl. use begin, end and step.\n",
    "\n",
    "\n",
    "print(my_str[10:17:-1])\n",
    "#What will be the output? blank\n",
    "\n",
    "\n",
    "print(my_str[16:10:-1])\n",
    "#output:- You have sliced: yaw ta, Using begin, end and step.\n",
    "\n",
    "print(my_str[-17:-10:1])\n",
    "#output:- You have sliced: ess you. Using begin, end and step."
   ]
  },
  {
   "cell_type": "code",
   "execution_count": null,
   "id": "7019bc5a",
   "metadata": {},
   "outputs": [],
   "source": []
  },
  {
   "cell_type": "code",
   "execution_count": null,
   "id": "81d43608",
   "metadata": {},
   "outputs": [],
   "source": []
  },
  {
   "cell_type": "code",
   "execution_count": null,
   "id": "a79f6f3c",
   "metadata": {},
   "outputs": [],
   "source": []
  },
  {
   "cell_type": "code",
   "execution_count": null,
   "id": "04d5c97e",
   "metadata": {},
   "outputs": [],
   "source": []
  },
  {
   "cell_type": "code",
   "execution_count": null,
   "id": "51d840e6",
   "metadata": {},
   "outputs": [],
   "source": []
  },
  {
   "cell_type": "code",
   "execution_count": null,
   "id": "e3469918",
   "metadata": {},
   "outputs": [],
   "source": []
  },
  {
   "cell_type": "code",
   "execution_count": null,
   "id": "9ffca509",
   "metadata": {},
   "outputs": [],
   "source": []
  },
  {
   "cell_type": "code",
   "execution_count": null,
   "id": "6526a949",
   "metadata": {},
   "outputs": [],
   "source": []
  },
  {
   "cell_type": "code",
   "execution_count": null,
   "id": "731689ba",
   "metadata": {},
   "outputs": [],
   "source": []
  },
  {
   "cell_type": "code",
   "execution_count": null,
   "id": "8c2ab4af",
   "metadata": {},
   "outputs": [],
   "source": []
  }
 ],
 "metadata": {
  "kernelspec": {
   "display_name": "Python 3",
   "language": "python",
   "name": "python3"
  },
  "language_info": {
   "codemirror_mode": {
    "name": "ipython",
    "version": 3
   },
   "file_extension": ".py",
   "mimetype": "text/x-python",
   "name": "python",
   "nbconvert_exporter": "python",
   "pygments_lexer": "ipython3",
   "version": "3.8.8"
  }
 },
 "nbformat": 4,
 "nbformat_minor": 5
}
