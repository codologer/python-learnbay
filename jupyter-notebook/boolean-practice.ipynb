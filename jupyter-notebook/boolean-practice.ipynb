{
 "cells": [
  {
   "cell_type": "markdown",
   "id": "12f5f1a5",
   "metadata": {},
   "source": [
    "<h1><center>Boolean Assignment</center></h1>"
   ]
  },
  {
   "cell_type": "code",
   "execution_count": 4,
   "id": "65da44fe",
   "metadata": {},
   "outputs": [
    {
     "name": "stdout",
     "output_type": "stream",
     "text": [
      "<class 'bool'>\n",
      "140712984368976\n"
     ]
    }
   ],
   "source": [
    "#Q. Declare a boolean value and store it in a variable. Check the type and print the id of the same.\n",
    "\n",
    "var_g=True\n",
    "print(type(var_g))\n",
    "print(id(var_g))"
   ]
  },
  {
   "cell_type": "code",
   "execution_count": 6,
   "id": "f7d38858",
   "metadata": {},
   "outputs": [
    {
     "name": "stdout",
     "output_type": "stream",
     "text": [
      "140712984659632 140712984659632\n"
     ]
    }
   ],
   "source": [
    "#Q. Take one boolean value between 0 - 256. Assign it to two different variables.\n",
    "#Check the id of both the variables. It should come the same. Check why?\n",
    "\n",
    "var_b= 253\n",
    "var_a=253\n",
    "print(id(var_b), id(var_a))\n"
   ]
  },
  {
   "cell_type": "code",
   "execution_count": 9,
   "id": "a45f229e",
   "metadata": {},
   "outputs": [
    {
     "name": "stdout",
     "output_type": "stream",
     "text": [
      "1\n",
      "-1\n",
      "0\n",
      "0.0\n",
      "0\n",
      "0\n",
      "0\n"
     ]
    }
   ],
   "source": [
    "#Q. Arithmetic Operations on boolean data\n",
    "#Take two different boolean values.\n",
    "#Store them in two different variables.\n",
    "#Do below operations on them:-\n",
    "#Find sum of both values\n",
    "#Find difference between them\n",
    "#Find the product of both.\n",
    "#Find value after dividing first value with second value\n",
    "#Find the remainder after dividing first value with second value\n",
    "#Find the quotient after dividing first value with second value\n",
    "#Find the result of first value to the power of second value.\n",
    "\n",
    "a=False\n",
    "b=True\n",
    "print(a+b)\n",
    "print(a-b)\n",
    "print(a*b)\n",
    "print(a/b)\n",
    "print(a%b)\n",
    "print(a//b)\n",
    "print(a**b)"
   ]
  },
  {
   "cell_type": "code",
   "execution_count": 10,
   "id": "9ecdad00",
   "metadata": {
    "scrolled": true
   },
   "outputs": [
    {
     "name": "stdout",
     "output_type": "stream",
     "text": [
      "True\n",
      "True\n",
      "True\n",
      "False\n"
     ]
    }
   ],
   "source": [
    "#Q. Comparison Operators on boolean values\n",
    "#Take two different boolean values.Store them in two different variables.Do below operations on them:-\n",
    "#Compare these two values with below operator:-\n",
    "#Greater than, '>'\n",
    "#less than, '<'\n",
    "#Greater than or equal to, '>='\n",
    "#Less than or equal to, '<='\n",
    "#Observe their output(return type should be boolean)\n",
    "g=True\n",
    "h=False\n",
    "\n",
    "print(g>h)\n",
    "print(g>h)\n",
    "print(g>=h)\n",
    "print(g<=h)"
   ]
  },
  {
   "cell_type": "code",
   "execution_count": 12,
   "id": "fc32cd6f",
   "metadata": {},
   "outputs": [
    {
     "name": "stdout",
     "output_type": "stream",
     "text": [
      "False\n",
      "True\n"
     ]
    }
   ],
   "source": [
    "#Q. Equality Operator\n",
    "#Take two different boolean values.Store them in two different variables. Equate them using equality operators (==, !=)\n",
    "#Observe the output(return type should be boolean)\n",
    "k=True\n",
    "e= False\n",
    "print(k==e)\n",
    "print(k!=e)"
   ]
  },
  {
   "cell_type": "code",
   "execution_count": 13,
   "id": "df1f3c08",
   "metadata": {},
   "outputs": [
    {
     "name": "stdout",
     "output_type": "stream",
     "text": [
      "True\n",
      "False\n",
      "False\n",
      "False\n",
      "True\n",
      "True\n",
      "True\n",
      "False\n",
      "False\n",
      "True\n"
     ]
    }
   ],
   "source": [
    "#Q. Logical operators\n",
    "#Observe the output of below code.Cross check the output manually\n",
    "print(True and True)\n",
    "#----------------------------------------->Output is True\n",
    "\n",
    "print(False and True)\n",
    "#----------------------------------------->Output is False\n",
    "print(True and False)\n",
    "#----------------------------------------->Output is False\n",
    "print(False and False)\n",
    "#----------------------------------------->Output is False\n",
    "print(True or True)\n",
    "#----------------------------------------->Output is True\n",
    "print(False or True)\n",
    "#----------------------------------------->Output is True\n",
    "print(True or False)\n",
    "#----------------------------------------->Output is True\n",
    "print(False or False)\n",
    "#----------------------------------------->Output is False\n",
    "print(not True)\n",
    "#----------------------------------------->Output is False\n",
    "print(not False)\n",
    "#----------------------------------------->Output is True"
   ]
  },
  {
   "cell_type": "code",
   "execution_count": 20,
   "id": "1160ce11",
   "metadata": {},
   "outputs": [
    {
     "name": "stdout",
     "output_type": "stream",
     "text": [
      "True\n",
      "True\n",
      "-2\n",
      "4\n",
      "0\n"
     ]
    }
   ],
   "source": [
    "#Q. Bitwise Operators\n",
    "#Do below operations on the values provided below:-\n",
    "#Bitwise and(&) --------------> True, True -------> Output is True\n",
    "#Bitwise or(|) --------------> True, False -------> Output is True\n",
    "#Bitwise(^) --------------> True, False -------> Output is True\n",
    "#Bitwise negation(~) ---------> True -------> Output is -2\n",
    "#Bitwise left shift ---------> True,2 -------> Output is 4\n",
    "#Bitwise right shift ---------> True,2 -------> Output is 0\n",
    "#Cross check the output manually\n",
    "\n",
    "j=True\n",
    "u=True\n",
    "print(j&u)\n",
    "print(j|u)\n",
    "print(~j)\n",
    "print(j<<2)\n",
    "print(j>>2)\n",
    "\n"
   ]
  },
  {
   "cell_type": "code",
   "execution_count": 21,
   "id": "704fd469",
   "metadata": {},
   "outputs": [
    {
     "name": "stdout",
     "output_type": "stream",
     "text": [
      "True\n",
      "False\n",
      "True\n",
      "False\n"
     ]
    }
   ],
   "source": [
    "#Q. What is the output of expression inside the print statement. Cross check before running the program.\n",
    "a = True\n",
    "b = True\n",
    "print(a is b) #True or False? #\n",
    "\n",
    "print(a is not b) #True or False?\n",
    "a = False\n",
    "b = False\n",
    "print(a is b) #True or False?\n",
    "print(a is not b) #True or False?"
   ]
  },
  {
   "cell_type": "code",
   "execution_count": 22,
   "id": "645f2d79",
   "metadata": {},
   "outputs": [
    {
     "name": "stdout",
     "output_type": "stream",
     "text": [
      "True\n",
      "True\n",
      "True\n",
      "True\n",
      "True\n"
     ]
    }
   ],
   "source": [
    "#Q. Membership operation in, not in are two membership operators and it returns boolean value\n",
    "print(True in [10,10.20,10+20j,'Python', True])\n",
    "print(False in (10,10.20,10+20j,'Python', False))\n",
    "print(True in {1,2,3, True})\n",
    "print(True in {True:100, False:200, True:300})\n",
    "print(False in {True:100, False:200, True:300})"
   ]
  },
  {
   "cell_type": "code",
   "execution_count": null,
   "id": "7d1b5126",
   "metadata": {},
   "outputs": [],
   "source": []
  },
  {
   "cell_type": "code",
   "execution_count": null,
   "id": "ea4d6086",
   "metadata": {},
   "outputs": [],
   "source": []
  }
 ],
 "metadata": {
  "kernelspec": {
   "display_name": "Python 3",
   "language": "python",
   "name": "python3"
  },
  "language_info": {
   "codemirror_mode": {
    "name": "ipython",
    "version": 3
   },
   "file_extension": ".py",
   "mimetype": "text/x-python",
   "name": "python",
   "nbconvert_exporter": "python",
   "pygments_lexer": "ipython3",
   "version": "3.8.8"
  }
 },
 "nbformat": 4,
 "nbformat_minor": 5
}
