{
 "cells": [
  {
   "cell_type": "markdown",
   "id": "9c8cff79",
   "metadata": {},
   "source": [
    "<h1><center>Float Assignment</center></h1>"
   ]
  },
  {
   "cell_type": "code",
   "execution_count": 37,
   "id": "144a878d",
   "metadata": {},
   "outputs": [
    {
     "name": "stdout",
     "output_type": "stream",
     "text": [
      "<class 'float'>\n",
      "2580030122480\n"
     ]
    }
   ],
   "source": [
    "#Q. Declare a float value and store it in a variable.Check the type and print the id of the same\n",
    "\n",
    "var_one=10.5\n",
    "print(type(var_one))\n",
    "print(id(var_one))"
   ]
  },
  {
   "cell_type": "code",
   "execution_count": 40,
   "id": "75d5e69a",
   "metadata": {},
   "outputs": [
    {
     "name": "stdout",
     "output_type": "stream",
     "text": [
      "5.1\n",
      "-1.1\n",
      "6.2\n",
      "0.6451612903225806\n",
      "2.0\n",
      "0.0\n",
      "8.574187700290345\n"
     ]
    }
   ],
   "source": [
    "#Q. Arithmetic Operations on float\n",
    "#Take two different float values.\n",
    "#Store them in two different variables.\n",
    "#Do below operations on them:-\n",
    "#Find sum of both numbers\n",
    "#Find difference between them\n",
    "#Find the product of both numbers.\n",
    "#Find value after dividing first num with second number\n",
    "#Find the remainder after dividing first number with second number\n",
    "#Find the quotient after dividing first number with second number\n",
    "#Find the result of the first num to the power of the second number.\n",
    "\n",
    "\n",
    "var_t=2.0\n",
    "var_g=3.1\n",
    "print(var_t+var_g)\n",
    "print(var_t-var_g)\n",
    "print(var_t*var_g)\n",
    "print(var_t/var_g)\n",
    "print(var_t%var_g)\n",
    "print(var_t//var_g)\n",
    "print(var_t**var_g)"
   ]
  },
  {
   "cell_type": "code",
   "execution_count": 41,
   "id": "67882c3f",
   "metadata": {},
   "outputs": [
    {
     "name": "stdout",
     "output_type": "stream",
     "text": [
      "True\n",
      "False\n",
      "True\n",
      "False\n"
     ]
    }
   ],
   "source": [
    "#Q. Comparison Operators on float\n",
    "#Take two different float values.\n",
    "#Store them in two different variables.\n",
    "#Do below operations on them:-\n",
    "#Compare these two numbers with below operator:-\n",
    "#Greater than, '>'\n",
    "#Smaller than, '<'\n",
    "#Greater than or equal to, '>='\n",
    "#Less than or equal to, '<='\n",
    "#Observe their output(return type should be boolean)\n",
    "\n",
    "var_g=9.8\n",
    "var_pi=3.14\n",
    "print(var_g>var_pi)\n",
    "print(var_g<var_pi)\n",
    "print(var_g>=var_pi)\n",
    "print(var_g<=var_pi)"
   ]
  },
  {
   "cell_type": "code",
   "execution_count": 42,
   "id": "b6a2ca3f",
   "metadata": {},
   "outputs": [
    {
     "name": "stdout",
     "output_type": "stream",
     "text": [
      "False\n",
      "True\n"
     ]
    }
   ],
   "source": [
    "#Q. Equality Operator. Take two different float values.Store them in two different variables.\n",
    "#Equate them using equality operators (==, !=).Observe the output(return type should be boolean)\n",
    "\n",
    "var_i=7.6\n",
    "var_u=8.3\n",
    "print(var_i==var_u)\n",
    "print(var_i!=var_u)"
   ]
  },
  {
   "cell_type": "code",
   "execution_count": 43,
   "id": "8ae321f6",
   "metadata": {},
   "outputs": [
    {
     "name": "stdout",
     "output_type": "stream",
     "text": [
      "20.3\n",
      "0.0\n",
      "0.0\n",
      "0.0\n",
      "10.2\n",
      "20.3\n",
      "20.3\n",
      "0.0\n",
      "False\n",
      "True\n"
     ]
    }
   ],
   "source": [
    "#Q. Logical operators\n",
    "#Observe the output of below code\n",
    "#Cross check the output manually\n",
    "print(10.20 and 20.30) #both are true and second value taken\n",
    "#>Output is 20.3\n",
    "print(0.0 and 20.30) #First is false so first value\n",
    "#taken->Output is 0.0\n",
    "\n",
    "print(20.30 and 0.0) #Goes to till second and second value is\n",
    "#false so second is taken>Output is 0.0\n",
    "print(0.0 and 0.0) #First is false so first value is\n",
    "#taken->Output is 0.0\n",
    "print(10.20 or 20.30) #First is True so first value is\n",
    "#taken>Output is 10.2\n",
    "print(0.0 or 20.30) #Goes to till second and second is true\n",
    "#second value is taken->Output is 20.3\n",
    "print(20.30 or 0.0) #First is True so first value is\n",
    "#taken->Output is 20.3\n",
    "print(0.0 or 0.0) #Goes to till second and second is also\n",
    "#false and second value is taken>Output is 0.0\n",
    "print(not 10.20) #-Not of true is false->Output is False\n",
    "print(not 0.0) #Not of false is True>Output is True"
   ]
  },
  {
   "cell_type": "code",
   "execution_count": 48,
   "id": "34a225dd",
   "metadata": {},
   "outputs": [
    {
     "name": "stdout",
     "output_type": "stream",
     "text": [
      "False\n",
      "True\n",
      "2580031087312\n",
      "2580030122448\n",
      "False\n",
      "True\n",
      "2580030122448\n",
      "2580030122448\n"
     ]
    }
   ],
   "source": [
    "#Q. What is the output of expression inside print statement. Cross check before running the program.\n",
    "\n",
    "\n",
    "a = 10.20\n",
    "b = 10.20\n",
    "print(a is b) #True or False? True 10.20<256\n",
    "print(a is not b) #True or False? False\n",
    "#Why the Id of float values are different when the same value is assigned to two different variables\n",
    "# ex: a = 10.5 b=10.5. but id will be same if I assign the variable having float i.e. a=c then both a and c's Id are same\n",
    "\n",
    "a=10.5\n",
    "b=10.5\n",
    "print(id(a))\n",
    "print(id(b))\n",
    "print(a is b)\n",
    "a=b\n",
    "print(a is b)\n",
    "print(id(a))\n",
    "print(id(b))"
   ]
  },
  {
   "cell_type": "code",
   "execution_count": 49,
   "id": "d0067ce1",
   "metadata": {},
   "outputs": [
    {
     "name": "stdout",
     "output_type": "stream",
     "text": [
      "True\n",
      "True\n",
      "True\n",
      "True\n",
      "True\n",
      "True\n"
     ]
    }
   ],
   "source": [
    "#Q. Membership operation in, not in are two membership operators and it returns boolean value\n",
    "print('2.7' in 'Python2.7.8') #True\n",
    "print(10.20 in [10,10.20,10+20j,'Python']) #True\n",
    "print(10.20 in (10,10.20,10+20j,'Python')) # True\n",
    "print(20.30 in {1,20.30,30+40j}) # True\n",
    "print(2.3 in {1:100, 2.3:200, 30+40j:300}) # True\n",
    "print(10 in range(20)) # True"
   ]
  },
  {
   "cell_type": "code",
   "execution_count": null,
   "id": "071238db",
   "metadata": {},
   "outputs": [],
   "source": []
  }
 ],
 "metadata": {
  "kernelspec": {
   "display_name": "Python 3",
   "language": "python",
   "name": "python3"
  },
  "language_info": {
   "codemirror_mode": {
    "name": "ipython",
    "version": 3
   },
   "file_extension": ".py",
   "mimetype": "text/x-python",
   "name": "python",
   "nbconvert_exporter": "python",
   "pygments_lexer": "ipython3",
   "version": "3.8.8"
  }
 },
 "nbformat": 4,
 "nbformat_minor": 5
}
